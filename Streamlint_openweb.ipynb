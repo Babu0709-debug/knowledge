{
 "cells": [
  {
   "cell_type": "code",
   "execution_count": null,
   "id": "4e9478f4-64db-420f-add3-ca00f907c47a",
   "metadata": {
    "tags": []
   },
   "outputs": [],
   "source": [
    "!pip install streamlit pandas pandasai openai"
   ]
  },
  {
   "cell_type": "code",
   "execution_count": 1,
   "id": "d5cbabba-2f3b-48fc-b8c2-6ea39d3fa218",
   "metadata": {
    "tags": []
   },
   "outputs": [
    {
     "data": {
      "application/vnd.jupyter.widget-view+json": {
       "model_id": "1e459d643b2a49fab863b8859439eb6c",
       "version_major": 2,
       "version_minor": 0
      },
      "text/plain": [
       "HTML(value='<a href=\"http://localhost:8501\" target=\"_blank\">Open Streamlit App</a>')"
      ]
     },
     "metadata": {},
     "output_type": "display_data"
    }
   ],
   "source": [
    "import subprocess\n",
    "import time\n",
    "import ipywidgets as widgets\n",
    "from IPython.display import display\n",
    "\n",
    "# Function to start the Streamlit app\n",
    "def run_streamlit():\n",
    "    # Start the Streamlit app\n",
    "    process = subprocess.Popen([\"streamlit\", \"run\", \"streamlit_app.py\"])\n",
    "    # Wait a bit for the server to start\n",
    "    time.sleep(5)\n",
    "    return process\n",
    "\n",
    "# Function to display the link\n",
    "def display_streamlit_link():\n",
    "    link = widgets.HTML(\n",
    "        value='<a href=\"http://localhost:8501\" target=\"_blank\">Open Streamlit App</a>'\n",
    "    )\n",
    "    display(link)\n",
    "\n",
    "# Run the Streamlit app\n",
    "process = run_streamlit()\n",
    "# Display the link to the Streamlit app\n",
    "display_streamlit_link()\n"
   ]
  },
  {
   "cell_type": "code",
   "execution_count": null,
   "id": "404aa95b-27c8-44e8-aec3-69839857afe8",
   "metadata": {},
   "outputs": [],
   "source": [
    "import os\n",
    "import streamlit as st\n",
    "import pandbas as pd\n",
    "from pandasai import Agent\n",
    "\n",
    "# Set your PandasAI API key\n",
    "os.environ[\"PANDASAI_API_KEY\"] = \"$2a$10$jtX1xbqADs4395M3DE9ZcuCx/15PDyWCIe40oLHgyZqEVtvH5lEeG\"\n",
    "\n",
    "# Create the Streamlit app\n",
    "st.title(\"Interactive Sales Data Query\")\n",
    "\n",
    "# File uploader to upload Excel file\n",
    "uploaded_file = st.file_uploader(\"Upload your Excel file\", type=[\"xlsx\", \"xls\"])\n",
    "\n",
    "if uploaded_file:\n",
    "    # Read the uploaded file\n",
    "    sales_by_country = pd.read_excel(uploaded_file)\n",
    "    st.write(\"Data Preview:\")\n",
    "    st.dataframe(sales_by_country.head())\n",
    "\n",
    "    # Input for user query\n",
    "    user_query = st.text_input(\"Enter your query:\", \"show top 5 Amount by Customer\")\n",
    "\n",
    "    if st.button(\"Submit\"):\n",
    "        # Create the agent and get the result\n",
    "        agent = Agent(sales_by_country)\n",
    "        result = agent.chat(user_query)\n",
    "        \n",
    "        # Convert the result to a DataFrame\n",
    "        result_df = pd.DataFrame(result)\n",
    "\n",
    "        # Display the result\n",
    "        st.write(\"Query Result:\")\n",
    "        st.dataframe(result_df)\n"
   ]
  }
 ],
 "metadata": {
  "kernelspec": {
   "display_name": "Python 3 (ipykernel)",
   "language": "python",
   "name": "python3"
  },
  "language_info": {
   "codemirror_mode": {
    "name": "ipython",
    "version": 3
   },
   "file_extension": ".py",
   "mimetype": "text/x-python",
   "name": "python",
   "nbconvert_exporter": "python",
   "pygments_lexer": "ipython3",
   "version": "3.11.4"
  }
 },
 "nbformat": 4,
 "nbformat_minor": 5
}
